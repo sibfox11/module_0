{
 "cells": [
  {
   "cell_type": "code",
   "execution_count": 4,
   "metadata": {},
   "outputs": [
    {
     "name": "stdout",
     "output_type": "stream",
     "text": [
      "Ваш алгоритм угадывает число в среднем за 5 попыток\n"
     ]
    },
    {
     "data": {
      "text/plain": [
       "5"
      ]
     },
     "execution_count": 4,
     "metadata": {},
     "output_type": "execute_result"
    }
   ],
   "source": [
    "import numpy as np\n",
    "\n",
    "#Усовершенствованна функция угадывания\n",
    "def game_core_v3(number):\n",
    "    '''В отличие от v2 не просто предлагаем случайное число в качестве ответа, а берем середину диапазона, в котором загадано число, \n",
    "    тем самым вдвое уменьшая этот диапазон при каждой попытке.\n",
    "    Функция принимает загаданное число и возвращает число попыток'''\n",
    "    \n",
    "    count = 1 #счетчик попыток\n",
    "    low_border = 0 # Нижняя граница диапазона,не входит в диапазон.\n",
    "    up_border = 101 #Верхняя граница диапазона, по традиции, не входит в диапазон \n",
    "    \n",
    "    if number >= up_border:\n",
    "        print('Загаданное число больше верхней границы диапазона.')\n",
    "        return(0)\n",
    "    if number <= low_border:\n",
    "        print('Загаданное число меньше нижней границы диапазона.')\n",
    "        return(0)\n",
    "    \n",
    "    predict = (up_border - low_border) // 2 #получаем середину диапазона\n",
    "    while number != predict:\n",
    "        #print(f\"Predict={predict} low_border={low_border} up_border={up_border}\")\n",
    "        count += 1\n",
    "        \n",
    "        if number > predict:\n",
    "            low_border = predict  # сдвигаем нижнюю границу\n",
    "            predict += (up_border - low_border) // 2\n",
    "        elif number < predict: \n",
    "            up_border=predict # сдвигаем верхнюю границу\n",
    "            predict -= (up_border - low_border) // 2\n",
    "\t\t\t\n",
    "        if count > 101: #Ограничиваем число попыток , если что-то пойдет не так.\n",
    "            break\n",
    "\t\t\t\n",
    "    return(count) # выход из цикла, если угадали\n",
    "\n",
    "\n",
    "\n",
    "def score_game(game_core):\n",
    "    '''Запускаем игру 1000 раз, чтобы узнать, как быстро игра угадывает число'''\n",
    "    count_ls = []\n",
    "    np.random.seed(1)  # фиксируем RANDOM SEED, чтобы ваш эксперимент был воспроизводим!\n",
    "    random_array = np.random.randint(1,101, size=(1000))\n",
    "    for number in random_array:\n",
    "        count_ls.append(game_core(number))\n",
    "    score = int(np.mean(count_ls))\n",
    "    print(f\"Ваш алгоритм угадывает число в среднем за {score} попыток\")\n",
    "    return(score)\n",
    "\t\n",
    "\n",
    "\n",
    "score_game(game_core_v3)\n",
    "\n"
   ]
  },
  {
   "cell_type": "code",
   "execution_count": null,
   "metadata": {},
   "outputs": [],
   "source": []
  }
 ],
 "metadata": {
  "kernelspec": {
   "display_name": "Python 3",
   "language": "python",
   "name": "python3"
  },
  "language_info": {
   "codemirror_mode": {
    "name": "ipython",
    "version": 3
   },
   "file_extension": ".py",
   "mimetype": "text/x-python",
   "name": "python",
   "nbconvert_exporter": "python",
   "pygments_lexer": "ipython3",
   "version": "3.8.3"
  }
 },
 "nbformat": 4,
 "nbformat_minor": 4
}
